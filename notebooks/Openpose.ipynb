{
  "cells": [
    {
      "cell_type": "markdown",
      "metadata": {},
      "source": [
        "# Import Necessary Libraries"
      ]
    },
    {
      "cell_type": "code",
      "execution_count": null,
      "metadata": {
        "trusted": true
      },
      "outputs": [],
      "source": [
        "import cv2\n",
        "import pyopenpose as op\n",
        "import numpy as np"
      ]
    },
    {
      "cell_type": "markdown",
      "metadata": {},
      "source": [
        "# Set OpenPose parameters"
      ]
    },
    {
      "cell_type": "code",
      "execution_count": null,
      "metadata": {
        "trusted": true
      },
      "outputs": [],
      "source": [
        "params = dict()\n",
        "params[\"model_folder\"] = \"pose_estimation/models\"\n",
        "params[\"net_resolution\"] = \"600x800\""
      ]
    },
    {
      "cell_type": "markdown",
      "metadata": {},
      "source": [
        "# Initialize OpenPose"
      ]
    },
    {
      "cell_type": "code",
      "execution_count": null,
      "metadata": {
        "trusted": true
      },
      "outputs": [],
      "source": [
        "opWrapper = op.WrapperPython()\n",
        "opWrapper.configure(params)\n",
        "opWrapper.start()"
      ]
    },
    {
      "cell_type": "markdown",
      "metadata": {},
      "source": [
        "# Define keypoints"
      ]
    },
    {
      "cell_type": "code",
      "execution_count": null,
      "metadata": {
        "trusted": true
      },
      "outputs": [],
      "source": [
        "keypoints_of_interest = {\n",
        "    0:  \"Nose\",\n",
        "    16: \"LEye\",\n",
        "    15: \"REye\",\n",
        "    18: \"LEar\",\n",
        "    17: \"REar\",\n",
        "    5:  \"LShoulder\",\n",
        "    2:  \"RShoulder\",\n",
        "    6:  \"LElbow\",\n",
        "    3:  \"RElbow\",\n",
        "    7:  \"LWrist\",\n",
        "    4:  \"RWrist\",\n",
        "    12: \"LHip\",\n",
        "    9:  \"RHip\",\n",
        "    13: \"LKnee\",\n",
        "    10: \"RKnee\",\n",
        "    14: \"LAnkle\",\n",
        "    11: \"RAnkle\"\n",
        "}"
      ]
    },
    {
      "cell_type": "markdown",
      "metadata": {},
      "source": [
        "# Process Image"
      ]
    },
    {
      "cell_type": "code",
      "execution_count": null,
      "metadata": {
        "trusted": true
      },
      "outputs": [],
      "source": [
        "image_path = \"data/pavan.wicketkeeper.jpg\"\n",
        "image = cv2.imread(image_path)\n",
        "datum = op.Datum()\n",
        "datum.cvInputData = image\n",
        "opWrapper.emplaceAndPop([datum])\n"
      ]
    },
    {
      "cell_type": "markdown",
      "metadata": {},
      "source": [
        "# Output keypoints with coordinates and confidence"
      ]
    },
    {
      "cell_type": "code",
      "execution_count": null,
      "metadata": {
        "trusted": true
      },
      "outputs": [],
      "source": [
        "pose_keypoints = datum.poseKeypoints\n",
        "\n",
        "for i, (key, name) in enumerate(keypoints_of_interest.items()):\n",
        "    x, y, confidence = pose_keypoints[0, key]\n",
        "    print(f\"{name}: x={x:.3f}, y={y:.3f}, confidence={confidence:.3f}\")"
      ]
    }
  ],
  "metadata": {
    "kernelspec": {
      "display_name": "Python (Pyodide)",
      "language": "python",
      "name": "python"
    },
    "language_info": {
      "codemirror_mode": {
        "name": "python",
        "version": 3
      },
      "file_extension": ".py",
      "mimetype": "text/x-python",
      "name": "python",
      "nbconvert_exporter": "python",
      "pygments_lexer": "ipython3",
      "version": "3.8"
    }
  },
  "nbformat": 4,
  "nbformat_minor": 4
}
