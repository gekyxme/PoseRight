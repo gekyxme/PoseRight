{
 "cells": [
  {
   "cell_type": "code",
   "execution_count": 1,
   "metadata": {},
   "outputs": [],
   "source": [
    "import cv2\n",
    "import pandas as pd\n",
    "import os"
   ]
  },
  {
   "cell_type": "code",
   "execution_count": 2,
   "metadata": {},
   "outputs": [],
   "source": [
    "key_points = ['Nose', 'Left Eye', 'Right Eye', 'Left Ear', 'Right Ear', 'Left Shoulder', 'Right Shoulder', 'Left Elbow', 'Right Elbow', 'Left Wrist', 'Right Wrist', 'Left Hip', 'Right Hip', 'Left Knee', 'Right Knee', 'Left Ankle', 'Right Ankle']\n",
    "\n",
    "def Capture_Event(event, x, y, flags, params):\n",
    "    global coordinates, current_key_point\n",
    "    if event == cv2.EVENT_LBUTTONDOWN:\n",
    "        print(f\"{key_points[current_key_point]}: {x}, {y}\")\n",
    "        coordinates.append((key_points[current_key_point], x, y))\n",
    "        current_key_point += 1"
   ]
  },
  {
   "cell_type": "code",
   "execution_count": 3,
   "metadata": {},
   "outputs": [],
   "source": [
    "def process_image(image_path):\n",
    "    global coordinates, current_key_point\n",
    "    coordinates = []\n",
    "    current_key_point = 0\n",
    "\n",
    "    # Read and resize image\n",
    "    read_img = cv2.imread(image_path, 1)\n",
    "    img = cv2.resize(read_img, (600, 800))\n",
    "\n",
    "    # Show image and set mouse callback\n",
    "    cv2.imshow('image', img)\n",
    "    cv2.setMouseCallback('image', Capture_Event)\n",
    "    cv2.waitKey(0)\n",
    "    cv2.destroyAllWindows()\n",
    "\n",
    "    # Create DataFrame\n",
    "    df = pd.DataFrame(coordinates, columns=['key points', 'X', 'Y'])\n",
    "    df.insert(0, 'Image Name', os.path.splitext(image_path)[0])\n",
    "\n",
    "    return df"
   ]
  },
  {
   "cell_type": "code",
   "execution_count": 4,
   "metadata": {},
   "outputs": [],
   "source": [
    "# image_paths = [\n",
    "#     'data/amrit_basic.jpg',\n",
    "#     'data/amrit_flex.jpg',\n",
    "#     'data/amrit_leg_stretch.jpg',\n",
    "#     'data/amrit_lunge.jpg',\n",
    "#     'data/amrit_pray.jpg',\n",
    "#     'data/amrit_squat.jpg',\n",
    "#     'data/amrit_surya_four.jpg',\n",
    "#     'data/amrit_surya_three.jpg',\n",
    "#     'data/amrit_t_pose.jpg',\n",
    "#     'data/amrit_zigzag.jpg',\n",
    "#     'data/pavan_dance.jpg',\n",
    "#     'data/pavan_flamingo.jpg',\n",
    "#     'data/pavan_full_stop.jpg',\n",
    "#     'data/pavan_jesus.jpg',\n",
    "#     'data/pavan_karate_kick.jpg',\n",
    "#     'data/pavan_left_stretch.jpg',\n",
    "#     'data/pavan_neck_stretch.jpg',\n",
    "#     'data/pavan_surya_two.jpg',\n",
    "#     'data/pavan_t_pose_variant.jpg',\n",
    "#     'data/pavan_wicketkeeper.jpg'\n",
    "# ]\n",
    "\n",
    "image_paths = [\n",
    "    '../data/amrit_lunge.jpg' \n",
    "]\n",
    "\n",
    "df_all = pd.DataFrame(columns=['Image Name', 'key points', 'X', 'Y'])\n",
    "\n",
    "for image_path in image_paths:\n",
    "    df_img = process_image(image_path)\n",
    "    df_all = pd.concat([df_all, df_img], ignore_index=True)"
   ]
  },
  {
   "cell_type": "code",
   "execution_count": 7,
   "metadata": {},
   "outputs": [],
   "source": [
    "def write_to_excel(df):\n",
    "    df.to_csv('coordinates.csv')\n",
    "\n",
    "write_to_excel(df_all)"
   ]
  }
 ],
 "metadata": {
  "kernelspec": {
   "display_name": "mlenv",
   "language": "python",
   "name": "python3"
  },
  "language_info": {
   "codemirror_mode": {
    "name": "ipython",
    "version": 3
   },
   "file_extension": ".py",
   "mimetype": "text/x-python",
   "name": "python",
   "nbconvert_exporter": "python",
   "pygments_lexer": "ipython3",
   "version": "3.9.9"
  }
 },
 "nbformat": 4,
 "nbformat_minor": 2
}
